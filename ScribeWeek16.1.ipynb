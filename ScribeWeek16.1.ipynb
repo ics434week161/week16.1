{
 "cells": [
  {
   "cell_type": "code",
   "execution_count": null,
   "metadata": {},
   "outputs": [],
   "source": []
  },
  {
   "cell_type": "markdown",
   "metadata": {},
   "source": [
    "# Week 16.1 Overfitting, Test and Validation"
   ]
  },
  {
   "cell_type": "markdown",
   "metadata": {},
   "source": [
    "## Evaluating Classification"
   ]
  },
  {
   "cell_type": "markdown",
   "metadata": {},
   "source": [
    "## Fitting The Data"
   ]
  },
  {
   "cell_type": "markdown",
   "metadata": {},
   "source": [
    "## Using Scikit-Learn"
   ]
  },
  {
   "cell_type": "markdown",
   "metadata": {},
   "source": [
    "sklearn's train_test_split function allows you to easily split your dataset into a training and test set. Typically in machine learning it is common practice to split the data 60/20/20 for training, validation, and test set respectively. The code below downloads the MNIST dataset. It returns and training and a test set, we take the training set and split it 80/20 and can use the 20% has a validation set."
   ]
  },
  {
   "cell_type": "code",
   "execution_count": 52,
   "metadata": {},
   "outputs": [],
   "source": [
    "from sklearn.model_selection import train_test_split\n",
    "from keras.datasets import mnist\n",
    "import numpy as np\n",
    "import matplotlib.pyplot as plt"
   ]
  },
  {
   "cell_type": "code",
   "execution_count": 61,
   "metadata": {},
   "outputs": [],
   "source": [
    "(x_train, y_train), (x_test, y_test) = mnist.load_data()"
   ]
  },
  {
   "cell_type": "code",
   "execution_count": 62,
   "metadata": {},
   "outputs": [
    {
     "name": "stdout",
     "output_type": "stream",
     "text": [
      "Training data size\n",
      "(48000, 28, 28)\n",
      "(48000,)\n",
      "\n",
      "Validation data size\n",
      "(12000, 28, 28)\n",
      "(12000,)\n",
      "\n",
      "Testing data size\n",
      "(10000, 28, 28)\n",
      "(10000,)\n"
     ]
    }
   ],
   "source": [
    "# By splitting the training set we should have 48000 samples for training and 12000 for validation\n",
    "x_train, x_val, y_train, y_val = train_test_split(x_train, y_train, test_size=0.20)\n",
    "print(\"Training data size\")\n",
    "print(x_train.shape)\n",
    "print(y_train.shape)\n",
    "print()\n",
    "print(\"Validation data size\")\n",
    "print(x_val.shape)\n",
    "print(y_val.shape)\n",
    "print()\n",
    "print(\"Testing data size\")\n",
    "print(x_test.shape)\n",
    "print(y_test.shape)"
   ]
  },
  {
   "cell_type": "markdown",
   "metadata": {},
   "source": [
    "# Explore "
   ]
  },
  {
   "cell_type": "markdown",
   "metadata": {},
   "source": [
    "The MNIST is a dataset containing 60000 images of size (28, 28) of a number between 0 and 9, so we have 10 possible classes. If we want to make sure our training set contains enough examples for each class we can check the frequency of each class in our training data. Each class is represented as an integer from 0 to 9. Since we are working with numpy we can use np.bincount to count the number of times each class occurs. The array returned is the count of the class, where the class is the index of the array entry. By plotting it out we wee that the classes are equally distributed for training."
   ]
  },
  {
   "cell_type": "code",
   "execution_count": 64,
   "metadata": {},
   "outputs": [
    {
     "data": {
      "image/png": "[encoded data removed]",
      "text/plain": [
       "<Figure size 720x360 with 1 Axes>"
      ]
     },
     "metadata": {
      "needs_background": "light"
     },
     "output_type": "display_data"
    }
   ],
   "source": [
    "counts = np.bincount(y_train.reshape(48000,))\n",
    "class_freqs = dict(enumerate(counts))\n",
    "\n",
    "plt.figure(figsize=(10, 5))\n",
    "plt.bar(range(len(class_freqs)), list(class_freqs.values()))\n",
    "plt.xticks(range(len(class_freqs)), list(class_freqs.keys()))\n",
    "plt.show()"
   ]
  },
  {
   "cell_type": "markdown",
   "metadata": {},
   "source": [
    "If this was a much larger dataset it would have been better to draw samples from the dataset and then take a look at this sample. In the case of having unequal representation in the dataset we could utilize stratified sampling by breaking the dataset into groups, such as breaking the data into batches of size K and then uniformly sample n times from each batch (n would have to be smaller than K). This helps with observing any class that may be a rarity in the dataset and could also help with prototyping and testing since we would be working with a smaller dataset."
   ]
  },
  {
   "cell_type": "markdown",
   "metadata": {},
   "source": [
    "# Handling Missing Features"
   ]
  },
  {
   "cell_type": "markdown",
   "metadata": {},
   "source": [
    "Dropping samples with missing values is okay for datasets that are large, but if we have many samples with missing values or if the dataset is small it would be more ideal to try to predict those missing values from other features. Besides setting these missing values as the minimum, maximum, mean, or median of that feature column we could look at a correlation matrix of size N x N, where N is the number of features, and find which features are more correlated with the feature column containing the missing values. If we find features that have high correlation with the missing features than the missing features are redundant because the correlated columns then contain a lot of information about the behavior of the missing feature. If no correlations are found we can throw the non-missing features into a model and use them to predict the missing features."
   ]
  },
  {
   "cell_type": "markdown",
   "metadata": {},
   "source": [
    "# Feature Scaling: min-max and Standardization"
   ]
  },
  {
   "cell_type": "markdown",
   "metadata": {},
   "source": [
    "When scaling features we need to make sure the features don't have different scales. One way to scale the features is to use min-max scaling which compresses the features to be in the interval $[0,1]$. Another method is standardize the features by z-score normalization. This converts to features to be described as steps above or below the mean of the specific feature and is not bounded like min-max scaling."
   ]
  },
  {
   "cell_type": "markdown",
   "metadata": {},
   "source": [
    "It is important ot apply the same type of scaling to both the train and test set. This is involves keeping the parameters used for scaling the training set to also scale the test set. One way of doing this is to use StandardScaler from sklearn. We reshape the samples from (28, 28) to (784,) because StandardScaler expects features to be 1-dimensional."
   ]
  },
  {
   "cell_type": "code",
   "execution_count": null,
   "metadata": {},
   "outputs": [],
   "source": [
    "from sklearn.preprocessing import StandardScaler\n",
    "x_train = x_train.reshape(x_train.shape[0], 784)\n",
    "x_test = x_test.reshape(x_test.shape[0], 784)\n",
    "scaler = StandardScaler()                        # StandardScaler performs standardization on the data set\n",
    "scaler.fit_transform(x_train)                    # You can fit the transformation on the training set\n",
    "    \n",
    "scaler.transform(x_test)                         # And then use the same transformation parameters obtained from the \n",
    "                                                 # training set on the test set"
   ]
  },
  {
   "cell_type": "code",
   "execution_count": null,
   "metadata": {},
   "outputs": [],
   "source": [
    "# You can access the means and variance for each feature\n",
    "scaler.mean_\n",
    "scaler.var_"
   ]
  }
 ],
 "metadata": {
  "kernelspec": {
   "display_name": "Python 3",
   "language": "python",
   "name": "python3"
  },
  "language_info": {
   "codemirror_mode": {
    "name": "ipython",
    "version": 3
   },
   "file_extension": ".py",
   "mimetype": "text/x-python",
   "name": "python",
   "nbconvert_exporter": "python",
   "pygments_lexer": "ipython3",
   "version": "3.7.3"
  }
 },
 "nbformat": 4,
 "nbformat_minor": 2
}
